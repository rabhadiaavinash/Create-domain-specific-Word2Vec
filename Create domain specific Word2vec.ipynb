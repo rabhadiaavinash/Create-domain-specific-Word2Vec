{
 "cells": [
  {
   "cell_type": "code",
   "execution_count": 1,
   "metadata": {},
   "outputs": [],
   "source": [
    "text = '''A kite is traditionally a tethered heavier-than-air craft with wing surfaces that react\n",
    "against the air to create lift and drag. A kite consists of wings, tethers, and anchors.\n",
    "Kites often have a bridle to guide the face of the kite at the correct angle so the wind\n",
    "can lift it. A kite’s wing also may be so designed so a bridle is not needed; when\n",
    "kiting a sailplane for launch, the tether meets the wing at a single point. A kite may\n",
    "have fixed or moving anchors. Untraditionally in technical kiting, a kite consists of\n",
    "tether-set-coupled wing sets; even in technical kiting, though, a wing in the system is\n",
    "still often called the kite.\n",
    "The lift that sustains the kite in flight is generated when air flows around the kite’s\n",
    "surface, producing low pressure above and high pressure below the wings. The\n",
    "interaction with the wind also generates horizontal drag along the direction of the\n",
    "wind. The resultant force vector from the lift and drag force components is opposed\n",
    "by the tension of one or more of the lines or tethers to which the kite is attached. The\n",
    "anchor point of the kite line may be static or moving (such as the towing of a kite by\n",
    "a running person, boat, free-falling anchors as in paragliders and fugitive parakites\n",
    "or vehicle).\n",
    "The same principles of fluid flow apply in liquids and kites are also used under water.\n",
    "A hybrid tethered craft comprising both a lighter-than-air balloon as well as a kite\n",
    "lifting surface is called a kytoon.\n",
    "Kites have a long and varied history and many different types are flown\n",
    "individually and at festivals worldwide. Kites may be flown for recreation, art or\n",
    "other practical uses. Sport kites can be flown in aerial ballet, sometimes as part of a\n",
    "competition. Power kites are multi-line steerable kites designed to generate large forces\n",
    "which can be used to power activities such as kite surfing, kite landboarding, kite\n",
    "fishing, kite buggying and a new trend snow kiting. Even Man-lifting kites have\n",
    "been made.'''"
   ]
  },
  {
   "cell_type": "code",
   "execution_count": 2,
   "metadata": {},
   "outputs": [],
   "source": [
    "from nltk.tokenize import TreebankWordTokenizer"
   ]
  },
  {
   "cell_type": "code",
   "execution_count": 3,
   "metadata": {},
   "outputs": [],
   "source": [
    "tokenizer = TreebankWordTokenizer()"
   ]
  },
  {
   "cell_type": "code",
   "execution_count": 4,
   "metadata": {},
   "outputs": [],
   "source": [
    "token_list = tokenizer.tokenize(text.lower())"
   ]
  },
  {
   "cell_type": "code",
   "execution_count": null,
   "metadata": {},
   "outputs": [],
   "source": []
  },
  {
   "cell_type": "code",
   "execution_count": 5,
   "metadata": {},
   "outputs": [
    {
     "data": {
      "text/plain": [
       "['a',\n",
       " 'kite',\n",
       " 'is',\n",
       " 'traditionally',\n",
       " 'a',\n",
       " 'tethered',\n",
       " 'heavier-than-air',\n",
       " 'craft',\n",
       " 'with',\n",
       " 'wing',\n",
       " 'surfaces',\n",
       " 'that',\n",
       " 'react',\n",
       " 'against',\n",
       " 'the',\n",
       " 'air',\n",
       " 'to',\n",
       " 'create',\n",
       " 'lift',\n",
       " 'and',\n",
       " 'drag.',\n",
       " 'a',\n",
       " 'kite',\n",
       " 'consists',\n",
       " 'of',\n",
       " 'wings',\n",
       " ',',\n",
       " 'tethers',\n",
       " ',',\n",
       " 'and',\n",
       " 'anchors.',\n",
       " 'kites',\n",
       " 'often',\n",
       " 'have',\n",
       " 'a',\n",
       " 'bridle',\n",
       " 'to',\n",
       " 'guide',\n",
       " 'the',\n",
       " 'face',\n",
       " 'of',\n",
       " 'the',\n",
       " 'kite',\n",
       " 'at',\n",
       " 'the',\n",
       " 'correct',\n",
       " 'angle',\n",
       " 'so',\n",
       " 'the',\n",
       " 'wind',\n",
       " 'can',\n",
       " 'lift',\n",
       " 'it.',\n",
       " 'a',\n",
       " 'kite’s',\n",
       " 'wing',\n",
       " 'also',\n",
       " 'may',\n",
       " 'be',\n",
       " 'so',\n",
       " 'designed',\n",
       " 'so',\n",
       " 'a',\n",
       " 'bridle',\n",
       " 'is',\n",
       " 'not',\n",
       " 'needed',\n",
       " ';',\n",
       " 'when',\n",
       " 'kiting',\n",
       " 'a',\n",
       " 'sailplane',\n",
       " 'for',\n",
       " 'launch',\n",
       " ',',\n",
       " 'the',\n",
       " 'tether',\n",
       " 'meets',\n",
       " 'the',\n",
       " 'wing',\n",
       " 'at',\n",
       " 'a',\n",
       " 'single',\n",
       " 'point.',\n",
       " 'a',\n",
       " 'kite',\n",
       " 'may',\n",
       " 'have',\n",
       " 'fixed',\n",
       " 'or',\n",
       " 'moving',\n",
       " 'anchors.',\n",
       " 'untraditionally',\n",
       " 'in',\n",
       " 'technical',\n",
       " 'kiting',\n",
       " ',',\n",
       " 'a',\n",
       " 'kite',\n",
       " 'consists',\n",
       " 'of',\n",
       " 'tether-set-coupled',\n",
       " 'wing',\n",
       " 'sets',\n",
       " ';',\n",
       " 'even',\n",
       " 'in',\n",
       " 'technical',\n",
       " 'kiting',\n",
       " ',',\n",
       " 'though',\n",
       " ',',\n",
       " 'a',\n",
       " 'wing',\n",
       " 'in',\n",
       " 'the',\n",
       " 'system',\n",
       " 'is',\n",
       " 'still',\n",
       " 'often',\n",
       " 'called',\n",
       " 'the',\n",
       " 'kite.',\n",
       " 'the',\n",
       " 'lift',\n",
       " 'that',\n",
       " 'sustains',\n",
       " 'the',\n",
       " 'kite',\n",
       " 'in',\n",
       " 'flight',\n",
       " 'is',\n",
       " 'generated',\n",
       " 'when',\n",
       " 'air',\n",
       " 'flows',\n",
       " 'around',\n",
       " 'the',\n",
       " 'kite’s',\n",
       " 'surface',\n",
       " ',',\n",
       " 'producing',\n",
       " 'low',\n",
       " 'pressure',\n",
       " 'above',\n",
       " 'and',\n",
       " 'high',\n",
       " 'pressure',\n",
       " 'below',\n",
       " 'the',\n",
       " 'wings.',\n",
       " 'the',\n",
       " 'interaction',\n",
       " 'with',\n",
       " 'the',\n",
       " 'wind',\n",
       " 'also',\n",
       " 'generates',\n",
       " 'horizontal',\n",
       " 'drag',\n",
       " 'along',\n",
       " 'the',\n",
       " 'direction',\n",
       " 'of',\n",
       " 'the',\n",
       " 'wind.',\n",
       " 'the',\n",
       " 'resultant',\n",
       " 'force',\n",
       " 'vector',\n",
       " 'from',\n",
       " 'the',\n",
       " 'lift',\n",
       " 'and',\n",
       " 'drag',\n",
       " 'force',\n",
       " 'components',\n",
       " 'is',\n",
       " 'opposed',\n",
       " 'by',\n",
       " 'the',\n",
       " 'tension',\n",
       " 'of',\n",
       " 'one',\n",
       " 'or',\n",
       " 'more',\n",
       " 'of',\n",
       " 'the',\n",
       " 'lines',\n",
       " 'or',\n",
       " 'tethers',\n",
       " 'to',\n",
       " 'which',\n",
       " 'the',\n",
       " 'kite',\n",
       " 'is',\n",
       " 'attached.',\n",
       " 'the',\n",
       " 'anchor',\n",
       " 'point',\n",
       " 'of',\n",
       " 'the',\n",
       " 'kite',\n",
       " 'line',\n",
       " 'may',\n",
       " 'be',\n",
       " 'static',\n",
       " 'or',\n",
       " 'moving',\n",
       " '(',\n",
       " 'such',\n",
       " 'as',\n",
       " 'the',\n",
       " 'towing',\n",
       " 'of',\n",
       " 'a',\n",
       " 'kite',\n",
       " 'by',\n",
       " 'a',\n",
       " 'running',\n",
       " 'person',\n",
       " ',',\n",
       " 'boat',\n",
       " ',',\n",
       " 'free-falling',\n",
       " 'anchors',\n",
       " 'as',\n",
       " 'in',\n",
       " 'paragliders',\n",
       " 'and',\n",
       " 'fugitive',\n",
       " 'parakites',\n",
       " 'or',\n",
       " 'vehicle',\n",
       " ')',\n",
       " '.',\n",
       " 'the',\n",
       " 'same',\n",
       " 'principles',\n",
       " 'of',\n",
       " 'fluid',\n",
       " 'flow',\n",
       " 'apply',\n",
       " 'in',\n",
       " 'liquids',\n",
       " 'and',\n",
       " 'kites',\n",
       " 'are',\n",
       " 'also',\n",
       " 'used',\n",
       " 'under',\n",
       " 'water.',\n",
       " 'a',\n",
       " 'hybrid',\n",
       " 'tethered',\n",
       " 'craft',\n",
       " 'comprising',\n",
       " 'both',\n",
       " 'a',\n",
       " 'lighter-than-air',\n",
       " 'balloon',\n",
       " 'as',\n",
       " 'well',\n",
       " 'as',\n",
       " 'a',\n",
       " 'kite',\n",
       " 'lifting',\n",
       " 'surface',\n",
       " 'is',\n",
       " 'called',\n",
       " 'a',\n",
       " 'kytoon.',\n",
       " 'kites',\n",
       " 'have',\n",
       " 'a',\n",
       " 'long',\n",
       " 'and',\n",
       " 'varied',\n",
       " 'history',\n",
       " 'and',\n",
       " 'many',\n",
       " 'different',\n",
       " 'types',\n",
       " 'are',\n",
       " 'flown',\n",
       " 'individually',\n",
       " 'and',\n",
       " 'at',\n",
       " 'festivals',\n",
       " 'worldwide.',\n",
       " 'kites',\n",
       " 'may',\n",
       " 'be',\n",
       " 'flown',\n",
       " 'for',\n",
       " 'recreation',\n",
       " ',',\n",
       " 'art',\n",
       " 'or',\n",
       " 'other',\n",
       " 'practical',\n",
       " 'uses.',\n",
       " 'sport',\n",
       " 'kites',\n",
       " 'can',\n",
       " 'be',\n",
       " 'flown',\n",
       " 'in',\n",
       " 'aerial',\n",
       " 'ballet',\n",
       " ',',\n",
       " 'sometimes',\n",
       " 'as',\n",
       " 'part',\n",
       " 'of',\n",
       " 'a',\n",
       " 'competition.',\n",
       " 'power',\n",
       " 'kites',\n",
       " 'are',\n",
       " 'multi-line',\n",
       " 'steerable',\n",
       " 'kites',\n",
       " 'designed',\n",
       " 'to',\n",
       " 'generate',\n",
       " 'large',\n",
       " 'forces',\n",
       " 'which',\n",
       " 'can',\n",
       " 'be',\n",
       " 'used',\n",
       " 'to',\n",
       " 'power',\n",
       " 'activities',\n",
       " 'such',\n",
       " 'as',\n",
       " 'kite',\n",
       " 'surfing',\n",
       " ',',\n",
       " 'kite',\n",
       " 'landboarding',\n",
       " ',',\n",
       " 'kite',\n",
       " 'fishing',\n",
       " ',',\n",
       " 'kite',\n",
       " 'buggying',\n",
       " 'and',\n",
       " 'a',\n",
       " 'new',\n",
       " 'trend',\n",
       " 'snow',\n",
       " 'kiting.',\n",
       " 'even',\n",
       " 'man-lifting',\n",
       " 'kites',\n",
       " 'have',\n",
       " 'been',\n",
       " 'made',\n",
       " '.']"
      ]
     },
     "execution_count": 5,
     "metadata": {},
     "output_type": "execute_result"
    }
   ],
   "source": [
    "token_list"
   ]
  },
  {
   "cell_type": "code",
   "execution_count": 6,
   "metadata": {},
   "outputs": [
    {
     "data": {
      "text/plain": [
       "361"
      ]
     },
     "execution_count": 6,
     "metadata": {},
     "output_type": "execute_result"
    }
   ],
   "source": [
    "len(token_list)"
   ]
  },
  {
   "cell_type": "code",
   "execution_count": null,
   "metadata": {},
   "outputs": [],
   "source": []
  },
  {
   "cell_type": "code",
   "execution_count": 7,
   "metadata": {},
   "outputs": [],
   "source": [
    "# TRAIN YOUR DOMAIN-SPECIFIC WORD2VEC MODEL"
   ]
  },
  {
   "cell_type": "code",
   "execution_count": 8,
   "metadata": {},
   "outputs": [
    {
     "name": "stderr",
     "output_type": "stream",
     "text": [
      "C:\\Anaconda3\\envs\\nlpiaenv\\lib\\site-packages\\gensim\\utils.py:1212: UserWarning: detected Windows; aliasing chunkize to chunkize_serial\n",
      "  warnings.warn(\"detected Windows; aliasing chunkize to chunkize_serial\")\n"
     ]
    }
   ],
   "source": [
    "from gensim.models.word2vec import Word2Vec"
   ]
  },
  {
   "cell_type": "code",
   "execution_count": 9,
   "metadata": {},
   "outputs": [],
   "source": [
    "# Parameters to control Word2vec model training"
   ]
  },
  {
   "cell_type": "code",
   "execution_count": 10,
   "metadata": {},
   "outputs": [],
   "source": [
    "# Number of vector elements (dimensions)\n",
    "# to represent the word vector"
   ]
  },
  {
   "cell_type": "code",
   "execution_count": 11,
   "metadata": {},
   "outputs": [],
   "source": [
    "num_features = 300"
   ]
  },
  {
   "cell_type": "code",
   "execution_count": 12,
   "metadata": {},
   "outputs": [],
   "source": [
    "# Min number of word count to be considered\n",
    "# in the Word2vec model. If your corpus is\n",
    "# small, reduce the min count. If you’re training\n",
    "# with a large corpus, increase the min count"
   ]
  },
  {
   "cell_type": "code",
   "execution_count": 13,
   "metadata": {},
   "outputs": [],
   "source": [
    "min_word_count = 3"
   ]
  },
  {
   "cell_type": "code",
   "execution_count": 14,
   "metadata": {},
   "outputs": [],
   "source": [
    "# Number of CPU cores used for the\n",
    "# training. If you want to set the\n",
    "# number of cores dynamically,\n",
    "# check out import multiprocessing:\n",
    "# num_workers = multiprocessing.cpu_count()."
   ]
  },
  {
   "cell_type": "code",
   "execution_count": 15,
   "metadata": {},
   "outputs": [],
   "source": [
    "num_workers = 2"
   ]
  },
  {
   "cell_type": "code",
   "execution_count": 16,
   "metadata": {},
   "outputs": [],
   "source": [
    "# Context window size"
   ]
  },
  {
   "cell_type": "code",
   "execution_count": 17,
   "metadata": {},
   "outputs": [],
   "source": [
    "window_size = 6"
   ]
  },
  {
   "cell_type": "code",
   "execution_count": 18,
   "metadata": {},
   "outputs": [],
   "source": [
    "# Subsampling rate for frequent terms"
   ]
  },
  {
   "cell_type": "code",
   "execution_count": 19,
   "metadata": {},
   "outputs": [],
   "source": [
    "subsampling = 1e-3"
   ]
  },
  {
   "cell_type": "code",
   "execution_count": null,
   "metadata": {},
   "outputs": [],
   "source": []
  },
  {
   "cell_type": "code",
   "execution_count": 20,
   "metadata": {},
   "outputs": [],
   "source": [
    "# Instantiating a Word2vec model"
   ]
  },
  {
   "cell_type": "code",
   "execution_count": null,
   "metadata": {},
   "outputs": [],
   "source": []
  },
  {
   "cell_type": "code",
   "execution_count": 21,
   "metadata": {},
   "outputs": [],
   "source": [
    "model = Word2Vec(\n",
    "                 token_list,\n",
    "                 workers=num_workers,\n",
    "                 size=num_features,\n",
    "                 min_count=min_word_count,\n",
    "                 window=window_size,\n",
    "                 sample=subsampling)"
   ]
  },
  {
   "cell_type": "code",
   "execution_count": 22,
   "metadata": {},
   "outputs": [
    {
     "data": {
      "text/plain": [
       "'Word2vec models can consume quite a bit of memory. But remember that only the\\nweight matrix for the hidden layer is of interest. Once you’ve trained your word\\nmodel, you can reduce the memory footprint by about half if you freeze your model\\nand discard the unnecessary information. The following command will discard the\\nunneeded output weights of your neural network:'"
      ]
     },
     "execution_count": 22,
     "metadata": {},
     "output_type": "execute_result"
    }
   ],
   "source": [
    "'''Word2vec models can consume quite a bit of memory. But remember that only the\n",
    "weight matrix for the hidden layer is of interest. Once you’ve trained your word\n",
    "model, you can reduce the memory footprint by about half if you freeze your model\n",
    "and discard the unnecessary information. The following command will discard the\n",
    "unneeded output weights of your neural network:'''"
   ]
  },
  {
   "cell_type": "code",
   "execution_count": 23,
   "metadata": {},
   "outputs": [],
   "source": [
    "model.init_sims(replace=True)"
   ]
  },
  {
   "cell_type": "code",
   "execution_count": 24,
   "metadata": {},
   "outputs": [
    {
     "data": {
      "text/plain": [
       "'The init_sims method will freeze the model, storing the weights of the hidden layer\\nand discarding the output weights that predict word co-ocurrences. The output\\nweights aren’t part of the vector used for most Word2vec applications. But the model\\ncannot be trained further once the weights of the output layer have been discarded.'"
      ]
     },
     "execution_count": 24,
     "metadata": {},
     "output_type": "execute_result"
    }
   ],
   "source": [
    "'''The init_sims method will freeze the model, storing the weights of the hidden layer\n",
    "and discarding the output weights that predict word co-ocurrences. The output\n",
    "weights aren’t part of the vector used for most Word2vec applications. But the model\n",
    "cannot be trained further once the weights of the output layer have been discarded.'''"
   ]
  },
  {
   "cell_type": "code",
   "execution_count": null,
   "metadata": {},
   "outputs": [],
   "source": []
  },
  {
   "cell_type": "code",
   "execution_count": 25,
   "metadata": {},
   "outputs": [],
   "source": [
    "# You can save the trained model with the following command and preserve it for\n",
    "# later use:"
   ]
  },
  {
   "cell_type": "code",
   "execution_count": 26,
   "metadata": {},
   "outputs": [],
   "source": [
    "model_name = \"my_domain_specific_word2vec_model\""
   ]
  },
  {
   "cell_type": "code",
   "execution_count": 27,
   "metadata": {},
   "outputs": [],
   "source": [
    "model.save(model_name)"
   ]
  },
  {
   "cell_type": "code",
   "execution_count": null,
   "metadata": {},
   "outputs": [],
   "source": []
  },
  {
   "cell_type": "code",
   "execution_count": 28,
   "metadata": {},
   "outputs": [],
   "source": [
    "# Loading a saved Word2vec model"
   ]
  },
  {
   "cell_type": "code",
   "execution_count": null,
   "metadata": {},
   "outputs": [],
   "source": []
  },
  {
   "cell_type": "code",
   "execution_count": 29,
   "metadata": {},
   "outputs": [],
   "source": [
    "from gensim.models.word2vec import Word2Vec"
   ]
  },
  {
   "cell_type": "code",
   "execution_count": null,
   "metadata": {},
   "outputs": [],
   "source": []
  },
  {
   "cell_type": "code",
   "execution_count": 30,
   "metadata": {},
   "outputs": [],
   "source": [
    "model_name = \"my_domain_specific_word2vec_model\""
   ]
  },
  {
   "cell_type": "code",
   "execution_count": 31,
   "metadata": {},
   "outputs": [],
   "source": [
    "model = Word2Vec.load(model_name)"
   ]
  },
  {
   "cell_type": "code",
   "execution_count": null,
   "metadata": {},
   "outputs": [],
   "source": []
  }
 ],
 "metadata": {
  "kernelspec": {
   "display_name": "Python 3",
   "language": "python",
   "name": "python3"
  },
  "language_info": {
   "codemirror_mode": {
    "name": "ipython",
    "version": 3
   },
   "file_extension": ".py",
   "mimetype": "text/x-python",
   "name": "python",
   "nbconvert_exporter": "python",
   "pygments_lexer": "ipython3",
   "version": "3.7.1"
  }
 },
 "nbformat": 4,
 "nbformat_minor": 4
}
